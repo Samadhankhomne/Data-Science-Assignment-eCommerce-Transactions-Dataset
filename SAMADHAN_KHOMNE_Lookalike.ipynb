{
 "cells": [
  {
   "cell_type": "code",
   "execution_count": 1,
   "id": "888368ee-a7ed-460f-845a-5d2b9f9ca618",
   "metadata": {},
   "outputs": [],
   "source": [
    "import pandas as pd\n",
    "from sklearn.metrics.pairwise import cosine_similarity\n",
    "from sklearn.preprocessing import StandardScaler\n"
   ]
  },
  {
   "cell_type": "code",
   "execution_count": 2,
   "id": "26f54f88-0675-4fbd-b25b-ac1eb58701a2",
   "metadata": {},
   "outputs": [],
   "source": [
    "# Load datasets\n",
    "customers = pd.read_csv(r\"C:\\Users\\91976\\Downloads\\Customers.csv\")\n",
    "products = pd.read_csv(r\"C:\\Users\\91976\\Downloads\\Products.csv\")\n",
    "transactions = pd.read_csv(r\"C:\\Users\\91976\\Downloads\\Transactions.csv\")"
   ]
  },
  {
   "cell_type": "code",
   "execution_count": 3,
   "id": "80e3b9cf-3b38-44d0-a45e-813fff7be0eb",
   "metadata": {},
   "outputs": [],
   "source": [
    "# Merge datasets\n",
    "transactions = transactions.merge(products, on='ProductID', how='left')\n",
    "transactions = transactions.merge(customers, on='CustomerID', how='left')\n"
   ]
  },
  {
   "cell_type": "code",
   "execution_count": 4,
   "id": "29dc32cb-125b-4b80-9cd9-017b556019ed",
   "metadata": {},
   "outputs": [],
   "source": [
    "# Feature Engineering\n",
    "# Calculate total spent, average transaction value, and preferred category for each customer\n",
    "customer_features = transactions.groupby('CustomerID').agg(\n",
    "    total_spent=('TotalValue', 'sum'),\n",
    "    avg_transaction_value=('TotalValue', 'mean'),\n",
    "    preferred_category=('Category', lambda x: x.value_counts().idxmax()),\n",
    "    transaction_count=('TransactionID', 'count')\n",
    ").reset_index()\n",
    "\n"
   ]
  },
  {
   "cell_type": "code",
   "execution_count": 5,
   "id": "05475237-cf00-4420-a7a2-e1dc8bf48b2c",
   "metadata": {},
   "outputs": [],
   "source": [
    "# Encode preferred category\n",
    "customer_features = pd.get_dummies(customer_features, columns=['preferred_category'])\n",
    "\n"
   ]
  },
  {
   "cell_type": "code",
   "execution_count": 6,
   "id": "c868ea75-4265-415e-bf10-5d9fc41e64d2",
   "metadata": {},
   "outputs": [],
   "source": [
    "# Normalize features\n",
    "scaler = StandardScaler()\n",
    "features_scaled = scaler.fit_transform(customer_features.iloc[:, 1:])\n",
    "\n"
   ]
  },
  {
   "cell_type": "code",
   "execution_count": 7,
   "id": "41e3fc90-aaf0-4712-90c1-752eb356314f",
   "metadata": {},
   "outputs": [],
   "source": [
    "# Compute similarity matrix\n",
    "similarity_matrix = cosine_similarity(features_scaled)\n",
    "\n"
   ]
  },
  {
   "cell_type": "code",
   "execution_count": 8,
   "id": "2fd6fec2-5d57-4a7c-bca5-d5f79c42f747",
   "metadata": {},
   "outputs": [],
   "source": [
    "# Create recommendations for the first 20 customers\n",
    "lookalike_map = {}\n",
    "for i in range(20):\n",
    "    customer_id = customer_features.iloc[i]['CustomerID']\n",
    "    similarities = list(enumerate(similarity_matrix[i]))\n",
    "    similarities = sorted(similarities, key=lambda x: x[1], reverse=True)\n",
    "    top_lookalikes = [\n",
    "        (customer_features.iloc[j]['CustomerID'], round(score, 2))\n",
    "        for j, score in similarities[1:4]\n",
    "    ]\n",
    "    lookalike_map[customer_id] = top_lookalikes\n",
    "\n"
   ]
  },
  {
   "cell_type": "code",
   "execution_count": 9,
   "id": "0de54009-98e0-45d7-972a-64da5571d7b8",
   "metadata": {},
   "outputs": [
    {
     "name": "stdout",
     "output_type": "stream",
     "text": [
      "Lookalike model completed. Recommendations saved to 'Lookalike.csv'.\n"
     ]
    }
   ],
   "source": [
    "# Create Lookalike.csv\n",
    "lookalike_df = pd.DataFrame({\n",
    "    'CustomerID': lookalike_map.keys(),\n",
    "    'Lookalikes': [str(v) for v in lookalike_map.values()]\n",
    "})\n",
    "lookalike_df.to_csv('Lookalike.csv', index=False)\n",
    "\n",
    "print(\"Lookalike model completed. Recommendations saved to 'Lookalike.csv'.\")"
   ]
  },
  {
   "cell_type": "code",
   "execution_count": null,
   "id": "f7566e0f-7e35-476f-9e80-d299585abd75",
   "metadata": {},
   "outputs": [],
   "source": []
  }
 ],
 "metadata": {
  "kernelspec": {
   "display_name": "Python 3 (ipykernel)",
   "language": "python",
   "name": "python3"
  },
  "language_info": {
   "codemirror_mode": {
    "name": "ipython",
    "version": 3
   },
   "file_extension": ".py",
   "mimetype": "text/x-python",
   "name": "python",
   "nbconvert_exporter": "python",
   "pygments_lexer": "ipython3",
   "version": "3.12.4"
  }
 },
 "nbformat": 4,
 "nbformat_minor": 5
}
